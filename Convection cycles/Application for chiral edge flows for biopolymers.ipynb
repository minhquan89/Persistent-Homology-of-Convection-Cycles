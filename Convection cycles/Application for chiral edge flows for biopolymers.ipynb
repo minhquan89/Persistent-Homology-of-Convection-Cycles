{
 "cells": [
  {
   "cell_type": "code",
   "execution_count": 1,
   "metadata": {},
   "outputs": [
    {
     "name": "stdout",
     "output_type": "stream",
     "text": [
      "Populating the interactive namespace from numpy and matplotlib\n"
     ]
    }
   ],
   "source": [
    "%pylab inline \n",
    "import networkx as nx\n",
    "from numpy import *\n",
    "from scipy.linalg import block_diag\n",
    "from scipy import sparse\n",
    "import matplotlib.colors as colors\n",
    "import pylab\n",
    "import sys\n",
    "import string\n",
    "import pandas as pd\n",
    "\n",
    "\n",
    "import gudhi as gd\n",
    "\n",
    "\n",
    "sys.path.append('../code')"
   ]
  },
  {
   "cell_type": "code",
   "execution_count": 2,
   "metadata": {},
   "outputs": [],
   "source": [
    "from MMC_util import *\n",
    "from MMC_plot_util import *\n",
    "from NNO_util_minh import *"
   ]
  },
  {
   "cell_type": "code",
   "execution_count": 3,
   "metadata": {},
   "outputs": [],
   "source": [
    "def draw_toy_graph(G,vmin,vmax,node_size,node_colors,edge_colors,edge_width,node_cmap,edge_cmap,s,ax,color_title=''):\n",
    "   \n",
    "    pos = nx.get_node_attributes(G,'pos')\n",
    "    #vmin=0#min(edge_colors)\n",
    "    #vmax=1#max(edge_colors)\n",
    "\n",
    "    \n",
    "    nodes_draw = nx.draw_networkx_nodes(G,\n",
    "                       pos=pos, \n",
    "                       node_color = node_colors, \n",
    "                       node_size=node_size,\n",
    "                       cmap=node_cmap,\n",
    "                       vmin=vmin,\n",
    "                       alpha=1,\n",
    "                       vmax=vmax,\n",
    "                       label=list(G.nodes()),\n",
    "                       ax=ax)\n",
    "    nodes_draw.set_edgecolor('k')\n",
    "\n",
    "    edges_draw = nx.draw_networkx_edges(G,\n",
    "                       pos=pos, \n",
    "                       edge_color=edge_colors,\n",
    "                       edge_cmap=edge_cmap,\n",
    "                       edge_vmin=vmin,\n",
    "                       edge_vmax=vmax,\n",
    "                       node_size=node_size,\n",
    "                       ax=ax,\n",
    "                       width=edge_width,\n",
    "                       alpha=1,\n",
    "                       arrows=True,\n",
    "                       arrowsize=20)\n",
    "\n",
    "    edge_labels = dict([((u,v,),d['weight']) for u,v,d in G.edges(data=True)])\n",
    "    edgelabels_draw = nx.draw_networkx_edge_labels(G,pos,edge_labels=edge_labels)\n",
    "    nodeslabels_draw = nx.draw_networkx_labels(G,pos)\n",
    "    #fig1.tight_layout(nodes_draw)\n",
    "    ax.axis('off')\n",
    "    #ax.set_xlim([-1,1])\n",
    "    #ax.set_ylim([-2,1])\n",
    "    # make colorbar\n",
    "    sm = plt.cm.ScalarMappable(cmap=s, norm=plt.Normalize(vmin = vmin, vmax=vmax))\n",
    "    sm._A = []\n",
    "    plt.colorbar(sm,label=color_title)\n",
    "    \n",
    "    return \n",
    "\n",
    "def get_pageRank_net_flow(A,alpha):\n",
    "    p_rank = pagerank (A,alpha)\n",
    "    P = google_matrix (A,alpha)\n",
    "    F =  np.dot(np.diag(p_rank),P) # net flows over edges\n",
    "    return F\n",
    "\n",
    "def get_edge_colors(A,matrix):\n",
    "        C = (np.array(np.where(A)))[0]\n",
    "        D = (np.array(np.where(A)))[1]\n",
    "        m = np.zeros(len(C))\n",
    "        for t in range(len(C)):\n",
    "            m[t] = matrix[C[t],D[t]]\n",
    "    \n",
    "        return m\n",
    "    \n",
    "def get_filtration_matrix(XX,max_value=.1,numsteps=8):\n",
    "    \n",
    "    #symmetrize input matrix\n",
    "    m,n = shape(XX)\n",
    "    XX = max_matrix(XX,m,n)\n",
    "    \n",
    "    #filtration_matrix = (XX==0)*np.max(XX)*10 + XX #make non-edges some huge number\n",
    "    filtration_matrix = (XX==0)*max_value + XX #make non-edges some huge number\n",
    "    filtration_matrix = filtration_matrix  - np.diag(np.diag(filtration_matrix))\n",
    "    return filtration_matrix, np.linspace(0,np.max(XX),numsteps)\n",
    "\n",
    "\n",
    "\n",
    "def get_weighted_filtration(G, # original graph\n",
    "                            filtration_matrix,#matrix to filter \n",
    "                            filtration_steps):#steps for filtering\n",
    "\n",
    "    labels = list(G.nodes())#node names\n",
    "    \n",
    "    GG = G\n",
    "    filtration=[]\n",
    "    for k,step in enumerate(filtration_steps):\n",
    "        AA = np.array( filtration_matrix <= step,int)\n",
    "        for i in range(len(AA)):\n",
    "            AA[i,i] = 0\n",
    "        A2 = pd.DataFrame(AA, index=labels, columns=labels)    \n",
    "        GG = nx.to_networkx_graph(A2)\n",
    "        #mapping = dict(zip(GG, string.ascii_lowercase))\n",
    "        #GG = nx.relabel_nodes(G, mapping)  # nodes are characters a through z\n",
    "        filtration.append(GG)\n",
    "    return filtration\n",
    "\n",
    " \n",
    "def make_wfiltration_fig(G,nets,titles,y_label):\n",
    "    \n",
    "    pos = nx.get_node_attributes(G,'pos')\n",
    "    \n",
    "    fig, ax = plt.subplots(1,len(nets),figsize=(16,3))\n",
    "#    ax = axes.flatten()\n",
    "\n",
    "    for i in range(len(nets)):\n",
    "        nx.draw_networkx(nets[i], \n",
    "                         pos=pos,\n",
    "                         ax=ax[i], \n",
    "                         node_size=800,\n",
    "                         #font_size=19,\n",
    "                         node_color='lightgray')  \n",
    "        ax[i].set_title(titles[i])\n",
    "        ax[i].set_xlim([-1,1])\n",
    "        ax[i].set_ylim([-1.5,1])        \n",
    "        ax[i].axis('off')\n",
    "        if i==0:\n",
    "             ax[i].set_ylabel(y_label)\n",
    "#    plt.show()\n",
    "    plt.tight_layout();\n",
    "    #savefig('VR_filtration.pdf');\n",
    "    return fig,ax\n",
    "\n",
    "\n",
    "\n",
    "def get_filtration_matrix_3(XX,max_value=.1,numsteps=8):\n",
    "    \n",
    "    #symmetrize input matrix\n",
    "    m,n = shape(XX)\n",
    "    XX = max_matrix(XX,m,n)\n",
    "    \n",
    "    fil_matrix = max_value - XX\n",
    "    fil_matrix = fil_matrix - np.diag(np.diag(fil_matrix))\n",
    "    \n",
    "#    return fil_matrix, max_value - np.linspace(0,max_value,numsteps)\n",
    "    return fil_matrix, max_value - np.linspace(.003,max_value*.95,numsteps)\n"
   ]
  },
  {
   "cell_type": "code",
   "execution_count": 4,
   "metadata": {},
   "outputs": [],
   "source": [
    "def draw_toy_graph2(G,vmin,vmax,node_size,node_colors,edge_colors,edge_width,node_cmap,edge_cmap,s,ax,color_title=''):\n",
    "   \n",
    "    pos = nx.get_node_attributes(G,'pos')\n",
    "    #vmin=0#min(edge_colors)\n",
    "    #vmax=1#max(edge_colors)\n",
    "\n",
    "    \n",
    "    nodes_draw = nx.draw_networkx_nodes(G,\n",
    "                       pos=pos, \n",
    "                       node_color = node_colors, \n",
    "                       node_size=node_size,\n",
    "                       cmap=node_cmap,\n",
    "                       vmin=vmin,\n",
    "                       alpha=1,\n",
    "                       vmax=vmax,\n",
    "                       label=list(G.nodes()),\n",
    "                       ax=ax)\n",
    "    nodes_draw.set_edgecolor('k')\n",
    "\n",
    "    edges_draw = nx.draw_networkx_edges(G,\n",
    "                       pos=pos, \n",
    "                       edge_color=edge_colors,\n",
    "                       edge_cmap=edge_cmap,\n",
    "                       edge_vmin=vmin,\n",
    "                       edge_vmax=vmax,\n",
    "                       node_size=node_size,\n",
    "                       ax=ax,\n",
    "                       width=edge_width,\n",
    "                       alpha=1,\n",
    "                       arrows=True,\n",
    "                       arrowsize=20)\n",
    "\n",
    "    edge_labels = dict([((u,v,),d['weight']) for u,v,d in G.edges(data=True)])\n",
    "    #edgelabels_draw = nx.draw_networkx_edge_labels(G,pos,edge_labels=edge_labels,ax=ax)\n",
    "    nodeslabels_draw = nx.draw_networkx_labels(G,pos,ax=ax)\n",
    "    #fig1.tight_layout(nodes_draw)\n",
    "    ax.axis('off')\n",
    "    #ax.set_xlim([-1,1])\n",
    "    #ax.set_ylim([-2,1])\n",
    "    # make colorbar\n",
    "    sm = plt.cm.ScalarMappable(cmap=s, norm=plt.Normalize(vmin = vmin, vmax=vmax))\n",
    "    #sm._A = []\n",
    "    #plt.colorbar(sm,label=color_title)\n",
    "    \n",
    "    return \n"
   ]
  },
  {
   "cell_type": "code",
   "execution_count": 5,
   "metadata": {},
   "outputs": [],
   "source": [
    "def get_1_cycles(diag): # return numpy array of 1-cycles from persistence diagram\n",
    "    one_cycles = []\n",
    "    for d in diag:\n",
    "        if d[0]==1:\n",
    "            one_cycles.append(([d[1][0],d[1][1]])  )\n",
    "    return np.array(one_cycles).T\n"
   ]
  },
  {
   "cell_type": "code",
   "execution_count": 6,
   "metadata": {},
   "outputs": [],
   "source": [
    "def pagerank2 (A,alpha):\n",
    "    #P = google_matrix (A,alpha)\n",
    "    P = A.copy()\n",
    "    for i in range(len(A)):\n",
    "        d_i = sum(A[i,:])\n",
    "        print(d_i)\n",
    "        P[i,i] = 1 - d_i\n",
    "        print(P[i,i])\n",
    "    x = np.zeros(len(A))\n",
    "    x[0] = 1\n",
    "    x[1] = 1\n",
    "    x[2] = 1\n",
    "    x[3] = 1\n",
    "    x[4] = 1\n",
    "    x[5] = 1\n",
    "    x[6] = 1\n",
    "    x[7] = 1\n",
    "    x[8] = 1\n",
    "    x[15] = 1\n",
    "    x[16] = 1\n",
    "    x[23] = 1\n",
    "    x[24] = 1\n",
    "    x[31] = 1\n",
    "    x[32] = 1\n",
    "    x[39] = 1\n",
    "    x[40] = 1\n",
    "    x[47] = 1\n",
    "    x[48] = 1\n",
    "    x[55] = 1\n",
    "    x[56] = 1\n",
    "    x[57] = 1\n",
    "    x[58] = 1\n",
    "    x[59] = 1\n",
    "    x[60] = 1\n",
    "    x[61] = 1    \n",
    "    x[62] = 1\n",
    "    x[63] = 1\n",
    "    \n",
    "    x = x/sum(x)\n",
    "    #print(sum(x))\n",
    "    for t in range(100000):\n",
    "        x = np.dot(P.T,x)\n",
    "        #print(sum(x))\n",
    "    return x,P  "
   ]
  },
  {
   "cell_type": "code",
   "execution_count": null,
   "metadata": {},
   "outputs": [],
   "source": []
  },
  {
   "cell_type": "code",
   "execution_count": 7,
   "metadata": {},
   "outputs": [
    {
     "data": {
      "text/plain": [
       "<Figure size 432x432 with 0 Axes>"
      ]
     },
     "metadata": {},
     "output_type": "display_data"
    }
   ],
   "source": [
    "\n",
    "f1 = plt.figure(figsize=(6,6))\n",
    "node_size = 500\n",
    "\n",
    "G=nx.grid_2d_graph(8,8).to_directed()\n",
    "pos = dict( (n, n) for n in G.nodes() )\n",
    "labels = dict( ((i, j), i * 10 + j) for i, j in G.nodes() )\n"
   ]
  },
  {
   "cell_type": "code",
   "execution_count": 8,
   "metadata": {},
   "outputs": [],
   "source": [
    "external_edges = [(10,20),(30,40),(50,60),(21,11),(41,31),(61,51),(12,22),(32,42),(52,62),(23,13),(43,33),(63,53),(14,24),(34,44),(54,64),(25,15),(45,35),(65,55),(2,1),(11,12),(22,21),(31,32),(42,41),(51,52),(62,61),(71,72),(4,3),(13,14),(24,23),(33,34),(44,43),(53,54),(64,63),(73,74),(6,5),(15,16),(26,25),(35,36),(46,45),(55,56),(66,65),(75,76),(16,26),(27,17),(36,46),(47,37),(56,66),(67,57)]\n",
    "internal_edges = [(0,10),(20,30),(40,50),(60,70),(11,1),(31,21),(51,41),(71,61),(2,12),(22,32),(42,52),(62,72),(13,3),(33,23),(53,43),(73,63),(4,14),(24,34),(44,54),(64,74),(15,5),(35,25),(55,45),(75,65),(1,0),(10,11),(21,20),(30,31),(41,40),(50,51),(61,60),(70,71),(3,2),(12,13),(23,22),(32,33),(43,42),(52,53),(63,62),(72,73),(5,4),(14,15),(25,24),(34,35),(45,44),(54,55),(65,64),(74,75),(76,77),(47,46),(27,26),(7,6),(67,66),(76,77),(56,57),(36,37),(16,17),(17,7),(37,27),(77,67),(57,47),(37,27),(17,7),(6,16),(26,36),(46,56),(66,76)]\n"
   ]
  },
  {
   "cell_type": "code",
   "execution_count": 9,
   "metadata": {},
   "outputs": [
    {
     "data": {
      "text/plain": [
       "64"
      ]
     },
     "execution_count": 9,
     "metadata": {},
     "output_type": "execute_result"
    }
   ],
   "source": [
    "G.nodes()\n",
    "N = len(G.nodes())\n",
    "N"
   ]
  },
  {
   "cell_type": "code",
   "execution_count": 10,
   "metadata": {},
   "outputs": [],
   "source": [
    "A = np.zeros((N,N))\n",
    "\n",
    "ids = zeros(list(labels.values())[-1]+1,dtype=int)\n",
    "for i,j in enumerate(list(labels.values())):\n",
    "    ids[j] = i"
   ]
  },
  {
   "cell_type": "code",
   "execution_count": 11,
   "metadata": {},
   "outputs": [],
   "source": [
    "temp = nx.DiGraph()\n",
    "G = nx.from_numpy_matrix(A, create_using=temp)"
   ]
  },
  {
   "cell_type": "code",
   "execution_count": 12,
   "metadata": {},
   "outputs": [],
   "source": [
    "pos = {}\n",
    "for i,j in enumerate(labels):\n",
    "    pos[i] = j\n",
    "\n",
    "edges = G.edges()\n",
    "#colors = [G[u][v]['color'] for u,v in edges]\n",
    "weights = [G[u][v]['weight'] for u,v in edges]\n"
   ]
  },
  {
   "cell_type": "code",
   "execution_count": 13,
   "metadata": {},
   "outputs": [],
   "source": [
    "gamma_ext = .1\n",
    "gamma_in = .0001\n",
    "new_external_edges = []\n",
    "for edge in external_edges:\n",
    "    node1 = ids[edge[0]]\n",
    "    node2 = ids[edge[1]]\n",
    "    A[node1,node2] = gamma_ext\n",
    "    new_external_edges.append((node1,node2))\n",
    "    \n",
    "\n",
    "new_internal_edges = []\n",
    "for edge in internal_edges:\n",
    "    node1 = ids[edge[0]]\n",
    "    node2 = ids[edge[1]]\n",
    "    A[node1,node2] = gamma_in    \n",
    "    new_internal_edges.append((node1,node2))\n"
   ]
  },
  {
   "cell_type": "code",
   "execution_count": 14,
   "metadata": {},
   "outputs": [
    {
     "data": {
      "image/png": "[encoded data removed]",
      "text/plain": [
       "<Figure size 432x288 with 1 Axes>"
      ]
     },
     "metadata": {},
     "output_type": "display_data"
    },
    {
     "data": {
      "text/plain": [
       "<Figure size 432x288 with 0 Axes>"
      ]
     },
     "metadata": {},
     "output_type": "display_data"
    }
   ],
   "source": [
    "nx.draw_networkx_nodes(G, pos=pos, cmap=plt.get_cmap('jet'), \n",
    "                       node_color = 'k', node_size = 100,alpha=.3)\n",
    "nx.draw_networkx_labels(G, pos=pos)\n",
    "nx.draw_networkx_edges(G, pos = pos, edgelist=new_external_edges,style = 'solid', edge_color = 'b',arrows=True)\n",
    "nx.draw_networkx_edges(G, pos = pos, edgelist=new_internal_edges,style = 'dotted', edge_color = 'r', arrows=True)\n",
    "\n",
    "#nx.draw_networkx(G, pos=pos, labels=labels)\n",
    "#labelss = nx.draw_networkx_labels (G, pos = labels1)\n",
    "plt.axis('off')\n",
    "plt.show()\n",
    "plt.tight_layout()\n"
   ]
  },
  {
   "cell_type": "code",
   "execution_count": 15,
   "metadata": {},
   "outputs": [],
   "source": [
    "def convert_F_to_small_F(F):\n",
    "\n",
    "    small_F = np.zeros((int(len(F)/4),int(len(F)/4)))\n",
    "\n",
    "    #node 0 (left square, top row)\n",
    "    small_F[0,1] = F[6,5]\n",
    "    small_F[1,0] = F[13,14]\n",
    "    small_F[0,4] = F[14,22]\n",
    "    small_F[4,0] = F[23,15]\n",
    "\n",
    "    #node 1 (left square, second row)\n",
    "    small_F[1,2] = F[4,3]\n",
    "    small_F[2,1] = F[11,12]\n",
    "    small_F[1,5] = F[12,20]\n",
    "    small_F[5,1] = F[21,13]\n",
    "\n",
    "    #node 2 (left square, third row)\n",
    "    small_F[2,3] = F[2,1]\n",
    "    small_F[3,2] = F[9,10]\n",
    "    small_F[2,6] = F[10,18]\n",
    "    small_F[6,2] = F[19,11]\n",
    "\n",
    "    #node 3 (left square, fourth row)\n",
    "    #small_F[3,4] = F[2,1]\n",
    "    #small_F[4,3] = F[9,10]\n",
    "    small_F[3,7] = F[8,16]\n",
    "    small_F[7,3] = F[17,9]\n",
    "\n",
    "    #node 4 (left-middle square, first row)\n",
    "    small_F[4,5] = F[22,21]\n",
    "    small_F[5,4] = F[29,30]\n",
    "    small_F[4,8] = F[30,38]\n",
    "    small_F[8,4] = F[39,31]\n",
    "\n",
    "    #node 5 (left-middle square, second row)\n",
    "    small_F[5,6] = F[20,19]\n",
    "    small_F[6,5] = F[27,28]\n",
    "    small_F[5,9] = F[28,36]\n",
    "    small_F[9,5] = F[37,29]\n",
    "\n",
    "    #node 6 (left-middle square, third row)\n",
    "    small_F[6,7] = F[18,17]\n",
    "    small_F[7,6] = F[25,26]\n",
    "    small_F[6,10] = F[26,34]\n",
    "    small_F[10,6] = F[35,27]\n",
    "\n",
    "\n",
    "    #node 7 (left-middle square, third row)\n",
    "    #small_F[7,8] = F[2,1]\n",
    "    #small_F[8,7] = F[9,10]\n",
    "    small_F[7,11] = F[24,32]\n",
    "    small_F[11,7] = F[33,25]\n",
    "\n",
    "\n",
    "    #node 8 (left-middle square, third row)\n",
    "    small_F[8,9] = F[38,37]\n",
    "    small_F[9,8] = F[45,46]\n",
    "    small_F[8,12] = F[46,54]\n",
    "    small_F[12,8] = F[55,47]\n",
    "\n",
    "    #node 9 (left-middle square, third row)\n",
    "    small_F[9,10] = F[36,35]\n",
    "    small_F[10,9] = F[43,44]\n",
    "    small_F[9,13] = F[44,52]\n",
    "    small_F[13,9] = F[53,45]\n",
    "\n",
    "    #node 10 (left-middle square, third row)\n",
    "    small_F[10,11] = F[34,33]\n",
    "    small_F[11,10] = F[41,42]\n",
    "    small_F[10,14] = F[42,50]\n",
    "    small_F[14,10] = F[51,43]\n",
    "\n",
    "    #node 11 (left-middle square, third row)\n",
    "    ##small_F[11,12] = F[2,1]\n",
    "    #small_F[12,11] = F[9,10]\n",
    "    small_F[11,15] = F[40,48]\n",
    "    small_F[15,11] = F[49,41]\n",
    "\n",
    "\n",
    "\n",
    "    #node 12 (left-middle square, third row)\n",
    "    small_F[12,13] = F[54,53]\n",
    "    small_F[13,12] = F[61,62]\n",
    "\n",
    "    #node 13 (left-middle square, third row)\n",
    "    small_F[13,14] = F[52,51]\n",
    "    small_F[14,13] = F[59,60]\n",
    "\n",
    "    #node 14 (left-middle square, third row)\n",
    "    small_F[14,15] = F[50,49]\n",
    "    small_F[15,14] = F[57,58]\n",
    "\n",
    "    #node 15 (left-middle square, third row)\n",
    "\n",
    "    return small_F"
   ]
  },
  {
   "cell_type": "code",
   "execution_count": 16,
   "metadata": {},
   "outputs": [],
   "source": [
    "def pagerank1 (A,alpha):\n",
    "#    P = google_matrix (A,alpha)\n",
    "    P = A.copy()\n",
    "    for i in range(len(A)):\n",
    "        d_i = sum(A[i,:])\n",
    "  #      print(d_i)\n",
    "        P[i,i] = 1 - d_i\n",
    " #       print(P[i,i])\n",
    "\n",
    "    x = np.ones(len(A))\n",
    "    x = x/sum(x)\n",
    "    for t in range(10000):\n",
    "         x = np.dot(P.T,x)\n",
    "    return x,P \n",
    "    \n",
    "    \n"
   ]
  },
  {
   "cell_type": "code",
   "execution_count": 17,
   "metadata": {},
   "outputs": [],
   "source": [
    "def get_pageRank_net_flow(A,alpha):\n",
    "    p_rank,P = pagerank1 (A,alpha)\n",
    "    #P = google_matrix (A,alpha)\n",
    "    F =  np.dot(np.diag(p_rank),P) # net flows over edges\n",
    "    return F\n"
   ]
  },
  {
   "cell_type": "code",
   "execution_count": 18,
   "metadata": {},
   "outputs": [
    {
     "data": {
      "text/plain": [
       "<matplotlib.image.AxesImage at 0x23061e83040>"
      ]
     },
     "execution_count": 18,
     "metadata": {},
     "output_type": "execute_result"
    },
    {
     "data": {
      "image/png": "[encoded data removed]",
      "text/plain": [
       "<Figure size 432x288 with 1 Axes>"
      ]
     },
     "metadata": {
      "needs_background": "light"
     },
     "output_type": "display_data"
    }
   ],
   "source": [
    "F = get_pageRank_net_flow(A,1)\n",
    "small_F = convert_F_to_small_F(F)\n",
    "imshow(small_F)\n"
   ]
  },
  {
   "cell_type": "code",
   "execution_count": null,
   "metadata": {},
   "outputs": [],
   "source": []
  },
  {
   "cell_type": "code",
   "execution_count": null,
   "metadata": {},
   "outputs": [],
   "source": []
  },
  {
   "cell_type": "code",
   "execution_count": 19,
   "metadata": {},
   "outputs": [
    {
     "data": {
      "image/png": "[encoded data removed]",
      "text/plain": [
       "<Figure size 576x216 with 3 Axes>"
      ]
     },
     "metadata": {
      "needs_background": "light"
     },
     "output_type": "display_data"
    }
   ],
   "source": [
    "Fs2= []\n",
    "Deltas = []\n",
    "Deltas2 = []\n",
    "As2 = []\n",
    "gamma_exts = [.01,.05,.1]\n",
    "gamma_in = .001\n",
    "f1,ax = subplots(1,len(gamma_exts),figsize=(8,3),sharex=True)       \n",
    "\n",
    "for i,j in enumerate(gamma_exts):\n",
    "    new_external_edges = []\n",
    "    for edge in external_edges:\n",
    "        node1 = ids[edge[0]]\n",
    "        node2 = ids[edge[1]]\n",
    "        A[node1,node2] = gamma_exts[i]\n",
    "        new_external_edges.append((node1,node2))\n",
    "\n",
    "\n",
    "    new_internal_edges = []\n",
    "    for edge in internal_edges:\n",
    "        node1 = ids[edge[0]]\n",
    "        node2 = ids[edge[1]]\n",
    "        A[node1,node2] = gamma_in    \n",
    "        new_internal_edges.append((node1,node2))\n",
    "        alpha = 1\n",
    "    \n",
    "    \n",
    "    \n",
    "    \n",
    "    \n",
    "\n",
    "    ######\n",
    "    F = get_pageRank_net_flow(A,alpha)\n",
    "    small_F = convert_F_to_small_F(F)\n",
    "\n",
    "    #F = get_fraction_of_outward_flow(F)\n",
    "    ######\n",
    "    \n",
    "    \n",
    "    Fs2.append(small_F)\n",
    "    Delta = (small_F - small_F.T)\n",
    "    Deltas2.append(Delta)\n",
    "    \n",
    "    m,n = shape(Delta)\n",
    "    Delta_symmetric = max_matrix(Delta,m,n) # magnitude of imbalance for net flows \n",
    "    max_value = 7.95505092089617e-05\n",
    "    #max_value = np.max(Delta_symmetric)*1.01\n",
    "    #print(F)\n",
    "    Deltas.append(Delta_symmetric)\n",
    "    As2.append(A)\n",
    "    fil_matrix,fil_steps =  get_filtration_matrix_3(Delta_symmetric,max_value=max_value,numsteps=3)\n",
    "    diag = dist2PD (fil_matrix, max_dim=2, max_edge_length=1)[1]    \n",
    "    \n",
    "    diag1 = []\n",
    "    for dd in diag:\n",
    "        if dd[0] == 1:\n",
    "            diag1.append(dd)\n",
    "        \n",
    "    gd.plot_persistence_barcode (persistence=diag1,axes=ax[i])\n",
    "    \n",
    "    values = [ round(max_value-xx,6)  for xx in fil_steps]\n",
    "    #ax[i].set_xlim([-.00002,max_value])\n",
    "    ax[i].set_xticks(fil_steps)\n",
    "        \n",
    "    ax[i].set_xticklabels(values)\n",
    "\n",
    "    ax[i].set_title(r'$\\gamma_{ex} ='+ str(j)+'$')\n",
    "    ax[i].set_ylim([-1,9])\n",
    "    ax[0].set_ylabel( ' feature id')\n",
    "    ax[i].set_xlim([0,max_value])\n",
    "\n",
    "    ax[i].set_xlabel('filtration parameter, $\\epsilon$')\n",
    "plt.tight_layout()\n",
    "savefig('Pbnew.pdf')"
   ]
  },
  {
   "cell_type": "code",
   "execution_count": 20,
   "metadata": {},
   "outputs": [
    {
     "data": {
      "text/plain": [
       "<matplotlib.image.AxesImage at 0x23062176880>"
      ]
     },
     "execution_count": 20,
     "metadata": {},
     "output_type": "execute_result"
    },
    {
     "data": {
      "image/png": "[encoded data removed]",
      "text/plain": [
       "<Figure size 432x288 with 1 Axes>"
      ]
     },
     "metadata": {
      "needs_background": "light"
     },
     "output_type": "display_data"
    }
   ],
   "source": [
    "G = nx.from_numpy_matrix(small_F,create_using=nx.DiGraph)\n",
    "imshow(nx.to_numpy_array(G))"
   ]
  },
  {
   "cell_type": "code",
   "execution_count": 21,
   "metadata": {},
   "outputs": [],
   "source": [
    "def draw_toy_graph_1(G,vmin,vmax,node_size,node_colors,edge_colors,edge_width,node_cmap,edge_cmap,s,ax,color_title,pos):\n",
    "   \n",
    "   # pos = dict( (n, n) for n in G.nodes() )  \n",
    "    nodes_draw = nx.draw_networkx_nodes(G,\n",
    "                       pos=pos, \n",
    "                       node_color = node_colors, \n",
    "                       node_size=node_size,\n",
    "                       cmap=node_cmap,\n",
    "                       vmin=vmin,\n",
    "                       alpha=1,\n",
    "                       vmax=vmax,\n",
    "                       label=list(G.nodes()),\n",
    "                       ax=ax)\n",
    "    nodes_draw.set_edgecolor('k')\n",
    "\n",
    "    edges_draw = nx.draw_networkx_edges(G,\n",
    "                       pos=pos, \n",
    "                       edge_color=edge_colors,\n",
    "                       edge_cmap=edge_cmap,\n",
    "                       edge_vmin=vmin,\n",
    "                       edge_vmax=vmax,\n",
    "                       node_size=node_size,\n",
    "                       ax=ax,\n",
    "                       width=edge_width,\n",
    "                       alpha=1,\n",
    "                       arrows=True,\n",
    "                       arrowsize=20,\n",
    "                       connectionstyle='arc3, rad = .2')\n",
    "\n",
    "    ax.axis('off')\n",
    "    return \n",
    "\n"
   ]
  },
  {
   "cell_type": "code",
   "execution_count": 22,
   "metadata": {},
   "outputs": [
    {
     "data": {
      "image/png": "[encoded data removed]",
      "text/plain": [
       "<Figure size 288x216 with 1 Axes>"
      ]
     },
     "metadata": {},
     "output_type": "display_data"
    }
   ],
   "source": [
    "node_colors = .8*np.ones(len(list(G.nodes))) #list(np.random.rand(len(list(G.nodes()))))\n",
    "node_cmap = plt.cm.gray\n",
    "    \n",
    "#F = get_pageRank_net_flow(A,1)\n",
    "m = get_edge_colors(small_F,small_F)\n",
    "edge_cmap = plt.cm.Reds\n",
    "s = edge_cmap\n",
    "edge_colors = m\n",
    "node_size = 200\n",
    "edge_width = 3\n",
    "vmin = -.001\n",
    "vmax = .1\n",
    "color_title=''\n",
    "fig1,ax = plt.subplots(1,1,figsize=(4,3))\n",
    "draw_toy_graph_1(G,vmin,vmax,node_size,node_colors,edge_colors,edge_width,node_cmap,edge_cmap,s,ax,color_title,pos)\n"
   ]
  },
  {
   "cell_type": "code",
   "execution_count": 23,
   "metadata": {},
   "outputs": [
    {
     "data": {
      "image/png": "[encoded data removed]",
      "text/plain": [
       "<Figure size 864x216 with 4 Axes>"
      ]
     },
     "metadata": {
      "needs_background": "light"
     },
     "output_type": "display_data"
    }
   ],
   "source": [
    "counter = 0\n",
    "pos_small = np.zeros((len(small_F),2),dtype=int)\n",
    "for i in range(4):\n",
    "    for j in range(4):\n",
    "        pos_small[counter] = [i,j]\n",
    "        counter = counter + 1\n",
    "        \n",
    "pos = {}        \n",
    "for i in range(len(pos_small)):\n",
    "    pos[i] = pos_small[i]\n",
    "    \n",
    "fig1,ax = plt.subplots(1,4,figsize=(12,3))\n",
    "\n",
    "for i in range(len(Deltas)):\n",
    "    node_colors = .8*np.ones(len(list(G.nodes))) #list(np.random.rand(len(list(G.nodes()))))\n",
    "    node_cmap = plt.cm.gray\n",
    "\n",
    "    #F = get_pageRank_net_flow(B,1)\n",
    "    m = get_edge_colors(small_F,Deltas2[i])\n",
    "    edge_cmap = plt.cm.Reds\n",
    "    s = edge_cmap\n",
    "    edge_colors = m\n",
    "    node_size = 200\n",
    "    edge_width = 3\n",
    "    vmin = 0\n",
    "    vmax = 5e-05\n",
    "#    vmax = max(m)*1.1\n",
    "    \n",
    "    color_title = 'imbalance, $\\Delta$'\n",
    "    #draw_toy_graph_0(H,vmin,vmax,node_size,node_colors,edge_colors,edge_width,node_cmap,edge_cmap,s,ax)\n",
    "    draw_toy_graph_1(G,vmin,vmax,node_size,node_colors,edge_colors,edge_width,node_cmap,edge_cmap,s,ax[i],color_title,pos)\n",
    "\n",
    "\n",
    "    \n",
    "    \n",
    "sm = plt.cm.ScalarMappable(cmap=s, norm=plt.Normalize(vmin = vmin, vmax=vmax))\n",
    "sm._A = []\n",
    "plt.colorbar(sm,label=color_title)\n",
    "\n",
    "ax[-1].remove()\n",
    "\n",
    "#filename = 'f'+str(i)+'.pdf'\n",
    "#savefig(filename)\n",
    "savefig('cycle.pdf')"
   ]
  }
 ],
 "metadata": {
  "kernelspec": {
   "display_name": "Python 3",
   "language": "python",
   "name": "python3"
  },
  "language_info": {
   "codemirror_mode": {
    "name": "ipython",
    "version": 3
   },
   "file_extension": ".py",
   "mimetype": "text/x-python",
   "name": "python",
   "nbconvert_exporter": "python",
   "pygments_lexer": "ipython3",
   "version": "3.8.5"
  }
 },
 "nbformat": 4,
 "nbformat_minor": 4
}
